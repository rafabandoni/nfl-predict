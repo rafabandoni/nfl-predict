{
  "nbformat": 4,
  "nbformat_minor": 0,
  "metadata": {
    "colab": {
      "private_outputs": true,
      "provenance": [],
      "authorship_tag": "ABX9TyMo4ZW1RHeJyDYmfnw8rDVQ",
      "include_colab_link": true
    },
    "kernelspec": {
      "name": "python3",
      "display_name": "Python 3"
    },
    "language_info": {
      "name": "python"
    }
  },
  "cells": [
    {
      "cell_type": "markdown",
      "metadata": {
        "id": "view-in-github",
        "colab_type": "text"
      },
      "source": [
        "<a href=\"https://colab.research.google.com/github/rafabandoni/nfl-predict/blob/main/notebooks/03_nfl_predict_class.ipynb\" target=\"_parent\"><img src=\"https://colab.research.google.com/assets/colab-badge.svg\" alt=\"Open In Colab\"/></a>"
      ]
    },
    {
      "cell_type": "code",
      "execution_count": null,
      "metadata": {
        "id": "4D1p9LBYwY-O"
      },
      "outputs": [],
      "source": []
    },
    {
      "cell_type": "markdown",
      "source": [
        "# 0.3 Pre Processing"
      ],
      "metadata": {
        "id": "JhJwHHc8wbUt"
      }
    },
    {
      "cell_type": "code",
      "source": [],
      "metadata": {
        "id": "aDCp4uYbwfO2"
      },
      "execution_count": null,
      "outputs": []
    },
    {
      "cell_type": "markdown",
      "source": [
        "## Principal Component Analysis(PCA)\n",
        "\n",
        "PCA is an unsupervised learning algorithm, meaning it doesn’t require prior knowledge of target variables. It’s commonly used in exploratory data analysis and machine learning to simplify datasets without losing critical information.\n",
        "\n",
        "Know more: https://www.geeksforgeeks.org/principal-component-analysis-pca/"
      ],
      "metadata": {
        "id": "7E1s5UOawm6l"
      }
    },
    {
      "cell_type": "markdown",
      "source": [
        "X, y and train test split before making preprocessing to avoid data leakage"
      ],
      "metadata": {
        "id": "jNT9s1DgwqX0"
      }
    },
    {
      "cell_type": "code",
      "source": [
        "X = featured_df.select_dtypes(include='number')\n",
        "X.dropna(inplace=True)"
      ],
      "metadata": {
        "id": "XbiWvZskwrCt"
      },
      "execution_count": null,
      "outputs": []
    },
    {
      "cell_type": "code",
      "source": [
        "# Mean\n",
        "X_mean = X.mean()\n",
        "\n",
        "# Standard deviation\n",
        "X_std = X.std()\n",
        "\n",
        "# Standardization\n",
        "Z = (X - X_mean) / X_std"
      ],
      "metadata": {
        "id": "wQEaSu8mwsUu"
      },
      "execution_count": null,
      "outputs": []
    },
    {
      "cell_type": "code",
      "source": [
        "\n",
        "pca = PCA(n_components=0.7)\n",
        "pca.fit(Z)\n",
        "x_pca = pca.transform(Z)\n",
        "\n",
        "# Create the dataframe\n",
        "df_pca1 = pd.DataFrame(x_pca,\n",
        "                       columns=['PC{}'.\n",
        "                       format(i+1)\n",
        "                        for i in range(len(pca.components_))])\n",
        "df_pca1"
      ],
      "metadata": {
        "id": "5sL_nfTLwtvd"
      },
      "execution_count": null,
      "outputs": []
    },
    {
      "cell_type": "markdown",
      "source": [
        "# 0.3.1 ML Model"
      ],
      "metadata": {
        "id": "8AD8z3twwf58"
      }
    },
    {
      "cell_type": "code",
      "source": [],
      "metadata": {
        "id": "6GbeITBowiR8"
      },
      "execution_count": null,
      "outputs": []
    }
  ]
}