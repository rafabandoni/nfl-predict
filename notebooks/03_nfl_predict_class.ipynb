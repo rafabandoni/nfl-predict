{
  "nbformat": 4,
  "nbformat_minor": 0,
  "metadata": {
    "colab": {
      "private_outputs": true,
      "provenance": [],
      "authorship_tag": "ABX9TyP6r5wCKtQETa88cr/aDhYf",
      "include_colab_link": true
    },
    "kernelspec": {
      "name": "python3",
      "display_name": "Python 3"
    },
    "language_info": {
      "name": "python"
    }
  },
  "cells": [
    {
      "cell_type": "markdown",
      "metadata": {
        "id": "view-in-github",
        "colab_type": "text"
      },
      "source": [
        "<a href=\"https://colab.research.google.com/github/rafabandoni/nfl-predict/blob/main/notebooks/03_nfl_predict_class.ipynb\" target=\"_parent\"><img src=\"https://colab.research.google.com/assets/colab-badge.svg\" alt=\"Open In Colab\"/></a>"
      ]
    },
    {
      "cell_type": "code",
      "execution_count": null,
      "metadata": {
        "id": "4D1p9LBYwY-O"
      },
      "outputs": [],
      "source": [
        "import pandas as pd\n",
        "\n",
        "from sklearn.model_selection import train_test_split\n",
        "from sklearn.preprocessing import StandardScaler\n",
        "from sklearn.decomposition import PCA\n",
        "from sklearn.metrics import accuracy_score, confusion_matrix, classification_report\n",
        "\n",
        "from xgboost import XGBClassifier\n",
        "\n",
        "import shap"
      ]
    },
    {
      "cell_type": "markdown",
      "source": [
        "# 0.3 Pre Processing"
      ],
      "metadata": {
        "id": "JhJwHHc8wbUt"
      }
    },
    {
      "cell_type": "code",
      "source": [
        "featured_df = pd.read_parquet('https://github.com/rafabandoni/nfl-predict/raw/refs/heads/main/data/output/featured_df.parquet')\n",
        "featured_df.head()"
      ],
      "metadata": {
        "id": "aDCp4uYbwfO2"
      },
      "execution_count": null,
      "outputs": []
    },
    {
      "cell_type": "markdown",
      "source": [
        "## Train Test Split"
      ],
      "metadata": {
        "id": "5J_yLvqgoaQo"
      }
    },
    {
      "cell_type": "markdown",
      "source": [
        "**IMPORTANT**: X, y and train test split before making preprocessing to avoid data leakage"
      ],
      "metadata": {
        "id": "jNT9s1DgwqX0"
      }
    },
    {
      "cell_type": "code",
      "source": [
        "target = 'home_winner'\n",
        "X = featured_df.drop(target, axis=1)\n",
        "y = featured_df[[target]]"
      ],
      "metadata": {
        "id": "rcdTH3Kioe9M"
      },
      "execution_count": null,
      "outputs": []
    },
    {
      "cell_type": "code",
      "source": [
        "X_train, X_test, y_train, y_test = train_test_split(X, y, test_size=0.2, random_state=42)"
      ],
      "metadata": {
        "id": "9vQXV4Dsos-Y"
      },
      "execution_count": null,
      "outputs": []
    },
    {
      "cell_type": "markdown",
      "source": [
        "## Scaling"
      ],
      "metadata": {
        "id": "6YJ4KlOvqdKH"
      }
    },
    {
      "cell_type": "code",
      "source": [
        "scaler = StandardScaler()\n",
        "X_train = scaler.fit_transform(X_train)"
      ],
      "metadata": {
        "id": "hy9RPC6xqeUM"
      },
      "execution_count": null,
      "outputs": []
    },
    {
      "cell_type": "markdown",
      "source": [
        "## Principal Component Analysis(PCA)\n",
        "\n",
        "PCA is an unsupervised learning algorithm, meaning it doesn’t require prior knowledge of target variables. It’s commonly used in exploratory data analysis and machine learning to simplify datasets without losing critical information.\n",
        "\n",
        "Know more: https://www.geeksforgeeks.org/principal-component-analysis-pca/"
      ],
      "metadata": {
        "id": "7E1s5UOawm6l"
      }
    },
    {
      "cell_type": "code",
      "source": [
        "# Without pca seems to work better\n",
        "\n",
        "# pca = PCA(n_components=0.7)\n",
        "# X_train = pca.fit_transform(X_train)\n",
        "# X_train"
      ],
      "metadata": {
        "id": "5sL_nfTLwtvd"
      },
      "execution_count": null,
      "outputs": []
    },
    {
      "cell_type": "code",
      "source": [
        "X_test = scaler.transform(X_test)\n",
        "# X_test = pca.transform(X_test)"
      ],
      "metadata": {
        "id": "iyls61MhsWDH"
      },
      "execution_count": null,
      "outputs": []
    },
    {
      "cell_type": "markdown",
      "source": [
        "# 0.3.1 ML Model"
      ],
      "metadata": {
        "id": "8AD8z3twwf58"
      }
    },
    {
      "cell_type": "markdown",
      "source": [
        "## Building model"
      ],
      "metadata": {
        "id": "ji1_Rw3yruF_"
      }
    },
    {
      "cell_type": "code",
      "source": [
        "xgb = XGBClassifier(\n",
        "    n_estimators=500,\n",
        "    max_depth=5,\n",
        "    min_child_weight=4,\n",
        "    learning_rate=0.2,\n",
        "    subsample=0.7,\n",
        "    colsample_bytree=0.5,\n",
        "    gamma=0.1,\n",
        "    reg_lambda=2,\n",
        "    alpha=2,\n",
        "    # scale_pos_weight=0.1\n",
        "    # use_label_encoder=False,\n",
        "    # eval_metric='mlogloss',\n",
        "    # enable_categorical=True,\n",
        "    # tree_method='hist',\n",
        "    # device= 'cuda',\n",
        "    # # objective='multi:softmax',\n",
        "    # objective='binary:logistic',\n",
        "    # num_class=2\n",
        ")\n",
        "xgb.fit(X_train, y_train)"
      ],
      "metadata": {
        "id": "EnYjWpgCvBqw"
      },
      "execution_count": null,
      "outputs": []
    },
    {
      "cell_type": "markdown",
      "source": [
        "## Predicting"
      ],
      "metadata": {
        "id": "0dD4Hlq2rvyD"
      }
    },
    {
      "cell_type": "code",
      "source": [
        "predictions = xgb.predict(X_test)"
      ],
      "metadata": {
        "id": "telzjAeCrYnG"
      },
      "execution_count": null,
      "outputs": []
    },
    {
      "cell_type": "markdown",
      "source": [
        "## Evaluating model"
      ],
      "metadata": {
        "id": "bkDub8MarxCX"
      }
    },
    {
      "cell_type": "code",
      "source": [
        "accuracy_score(y_test, predictions)"
      ],
      "metadata": {
        "id": "zqpj5NxnrnHe"
      },
      "execution_count": null,
      "outputs": []
    },
    {
      "cell_type": "code",
      "source": [
        "confusion_matrix(y_test, predictions)"
      ],
      "metadata": {
        "id": "okb_J102r_SH"
      },
      "execution_count": null,
      "outputs": []
    },
    {
      "cell_type": "code",
      "source": [
        "print(classification_report(y_test, predictions))"
      ],
      "metadata": {
        "id": "aXHCWM6YsDCv"
      },
      "execution_count": null,
      "outputs": []
    },
    {
      "cell_type": "code",
      "source": [
        "# explainer = shap.Explainer(xgb, X_test)\n",
        "explainer = shap.Explainer(xgb, pd.DataFrame(X_train, columns=X.columns))\n",
        "\n",
        "# shap_values = explainer(X_test)\n",
        "shap_values = explainer(pd.DataFrame(X_test, columns=X.columns))\n",
        "\n",
        "shap.plots.waterfall(shap_values[0])"
      ],
      "metadata": {
        "id": "2KwCUyPoxyAk"
      },
      "execution_count": null,
      "outputs": []
    },
    {
      "cell_type": "code",
      "source": [
        "shap.plots.beeswarm(shap_values)"
      ],
      "metadata": {
        "id": "UiJvy2s81Frd"
      },
      "execution_count": null,
      "outputs": []
    }
  ]
}