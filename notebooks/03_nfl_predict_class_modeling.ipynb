{
  "nbformat": 4,
  "nbformat_minor": 0,
  "metadata": {
    "colab": {
      "private_outputs": true,
      "provenance": [],
      "gpuType": "T4",
      "authorship_tag": "ABX9TyOe4DkejNwsAAjJNCmTeyvp",
      "include_colab_link": true
    },
    "kernelspec": {
      "name": "python3",
      "display_name": "Python 3"
    },
    "language_info": {
      "name": "python"
    },
    "accelerator": "GPU"
  },
  "cells": [
    {
      "cell_type": "markdown",
      "metadata": {
        "id": "view-in-github",
        "colab_type": "text"
      },
      "source": [
        "<a href=\"https://colab.research.google.com/github/rafabandoni/nfl-predict/blob/main/notebooks/03_nfl_predict_class_modeling.ipynb\" target=\"_parent\"><img src=\"https://colab.research.google.com/assets/colab-badge.svg\" alt=\"Open In Colab\"/></a>"
      ]
    },
    {
      "cell_type": "code",
      "source": [
        "!pip install optuna"
      ],
      "metadata": {
        "id": "f0t7LN8Jl9b3"
      },
      "execution_count": null,
      "outputs": []
    },
    {
      "cell_type": "code",
      "execution_count": null,
      "metadata": {
        "id": "4D1p9LBYwY-O"
      },
      "outputs": [],
      "source": [
        "import pandas as pd\n",
        "import seaborn as sns\n",
        "import numpy as np\n",
        "\n",
        "from abc import ABC, abstractmethod\n",
        "\n",
        "from sklearn.model_selection import train_test_split, StratifiedKFold, cross_val_score\n",
        "from sklearn.base import BaseEstimator, TransformerMixin\n",
        "# from sklearn.preprocessing import StandardScaler\n",
        "# from sklearn.decomposition import PCA\n",
        "from sklearn.metrics import accuracy_score, confusion_matrix, classification_report\n",
        "from sklearn.pipeline import Pipeline\n",
        "from xgboost import XGBClassifier\n",
        "\n",
        "import shap\n",
        "import optuna\n",
        "import pickle"
      ]
    },
    {
      "cell_type": "markdown",
      "source": [
        "# 0.3 Pre Processing"
      ],
      "metadata": {
        "id": "JhJwHHc8wbUt"
      }
    },
    {
      "cell_type": "code",
      "source": [
        "featured_df = pd.read_parquet('https://github.com/rafabandoni/nfl-predict/raw/refs/heads/main/data/output/featured_df.parquet')\n",
        "featured_df.head()"
      ],
      "metadata": {
        "id": "aDCp4uYbwfO2"
      },
      "execution_count": null,
      "outputs": []
    },
    {
      "cell_type": "code",
      "source": [
        "test_df = pd.read_parquet('https://github.com/rafabandoni/nfl-predict/raw/refs/heads/main/data/output/test_data.parquet')\n",
        "test_df.head()"
      ],
      "metadata": {
        "id": "EhyGPrOuJ0Y4"
      },
      "execution_count": null,
      "outputs": []
    },
    {
      "cell_type": "markdown",
      "source": [
        "## Creating preprocess pipeline"
      ],
      "metadata": {
        "id": "koZKhjdmJ3dm"
      }
    },
    {
      "cell_type": "markdown",
      "source": [
        "### Creating functions for pipeline"
      ],
      "metadata": {
        "id": "2MSFSnU9mg1i"
      }
    },
    {
      "cell_type": "code",
      "source": [
        "# Let's start by creating an abstract class\n",
        "class BaseTransformer(BaseEstimator, TransformerMixin, ABC):\n",
        "  def __init__(self):\n",
        "    super().__init__()\n",
        "\n",
        "  def fit(self, X, y=None):\n",
        "    return self # in our case, there's nothing to fit here\n",
        "\n",
        "  @abstractmethod\n",
        "  def transform(self, X):\n",
        "    pass"
      ],
      "metadata": {
        "id": "QzQBQ-w2r4ch"
      },
      "execution_count": null,
      "outputs": []
    },
    {
      "cell_type": "code",
      "source": [
        "def creating_home_and_away_columns(columns: list) -> list:\n",
        "  new_named_list = []\n",
        "  for item in columns:\n",
        "    new_named_list.append(item + '_home_')\n",
        "    new_named_list.append(item + '_away_')\n",
        "  return new_named_list"
      ],
      "metadata": {
        "id": "Noh1FKBCoUCY"
      },
      "execution_count": null,
      "outputs": []
    },
    {
      "cell_type": "code",
      "source": [
        "# Cleaning % data\n",
        "def clean_percent_data(df):\n",
        "  for column in df.columns:\n",
        "    if '%' in column:\n",
        "      df[column] = df[column] / 100"
      ],
      "metadata": {
        "id": "dxA0yWVQmjVL"
      },
      "execution_count": null,
      "outputs": []
    },
    {
      "cell_type": "code",
      "source": [
        "# Remove special characters from columns\n",
        "def remove_special_char_columns(df):\n",
        "  for column in df.columns:\n",
        "    new_name = column.lower().replace(' ','_').replace('%', '_perc')\n",
        "    df.rename(columns={\n",
        "        column : new_name\n",
        "    }, inplace=True)"
      ],
      "metadata": {
        "id": "p81b2OUqnBRv"
      },
      "execution_count": null,
      "outputs": []
    },
    {
      "cell_type": "code",
      "source": [
        "# Transform turnover in negative data\n",
        "turnover_columns = [\n",
        "    'defense_passing_lng',\n",
        "    'defense_receiving_lng',\n",
        "    'defense_rushing_lng',\n",
        "    'defense_interceptions_lng',\n",
        "    'offense_passing_lng',\n",
        "    'offense_receiving_lng',\n",
        "    'offense_rushing_lng',\n",
        "    'special_teams_kickoff_returns_lng',\n",
        "    'special_teams_punt_returns_lng',\n",
        "    'special_teams_punting_lng'\n",
        "]\n",
        "\n",
        "def negative_turnover_number(turnover_columns, df):\n",
        "  for column in turnover_columns:\n",
        "    new_column = []\n",
        "    for item in df[column]:\n",
        "      if 'T' in item:\n",
        "        new_value = item.replace('T', '')\n",
        "        new_value = int(new_value)\n",
        "        new_value = new_value * -1\n",
        "      else:\n",
        "        new_value = int(item)\n",
        "      new_column.append(new_value)\n",
        "    df[column] = new_column"
      ],
      "metadata": {
        "id": "eDssdhXgnDmz"
      },
      "execution_count": null,
      "outputs": []
    },
    {
      "cell_type": "code",
      "source": [
        "# Fix columns with A_M (attemps_made)\n",
        "columns_list = [\n",
        "    'special_teams_field_goals_1-19_>_a-m',\n",
        "    'special_teams_field_goals_20-29_>_a-m',\n",
        "    'special_teams_field_goals_30-39_>_a-m',\n",
        "    'special_teams_field_goals_40-49_>_a-m',\n",
        "    'special_teams_field_goals_50-59_>_a-m',\n",
        "    'special_teams_field_goals_60+_>_a-m'\n",
        "]\n",
        "\n",
        "# We will transform it in a percent so we don't need to create a new column for each case\n",
        "def transform_home_away_columns_percent(percent_columns, df):\n",
        "  for column in percent_columns:\n",
        "    attps_list = df[column].str.split('_').str[0]\n",
        "    matches_list = df[column].str.split('_').str[1]\n",
        "\n",
        "    percent_matches = matches_list.astype('int') / attps_list.astype('int')\n",
        "    percent_matches.fillna(0, inplace=True)\n",
        "    df[column] = percent_matches\n",
        "    df.rename(columns={\n",
        "        column : column.replace('a-m', 'percent_a_m')\n",
        "    }, inplace=True)"
      ],
      "metadata": {
        "id": "51Hlb2C8nGLj"
      },
      "execution_count": null,
      "outputs": []
    },
    {
      "cell_type": "code",
      "source": [
        "# Removing non important columns (trash from the origin)\n",
        "columns_to_drop = ['data_fgm',\n",
        "                   'data_fg__perc',\n",
        "                   'data_xpm',\n",
        "                   'data_xp_pct',\n",
        "                   'data_kret_td',\n",
        "                   'data_pret_t']\n",
        "\n",
        "def drop_columns(df, columns_to_drop):\n",
        "  columns_to_drop = creating_home_and_away_columns(columns_to_drop)\n",
        "  df.drop(columns_to_drop,\n",
        "          axis=1,\n",
        "          inplace=True)"
      ],
      "metadata": {
        "id": "WpYCblADnrP8"
      },
      "execution_count": null,
      "outputs": []
    },
    {
      "cell_type": "code",
      "source": [
        "def fix_datatype(df, column, data_type):\n",
        "  df[column] = df[column].astype(data_type)"
      ],
      "metadata": {
        "id": "IivCcvReonlh"
      },
      "execution_count": null,
      "outputs": []
    },
    {
      "cell_type": "code",
      "source": [
        "def home_winner(score_home, score_away):\n",
        "  if score_home > score_away:\n",
        "    return True\n",
        "  else:\n",
        "    return False # we will not be working on ties here since they are rare on NFL"
      ],
      "metadata": {
        "id": "7oBTjHRWo1K4"
      },
      "execution_count": null,
      "outputs": []
    },
    {
      "cell_type": "code",
      "source": [
        "def drop_unused_columns(df):\n",
        "  df.drop(['weather_temperature',\n",
        "           'weather_wind_mph',\n",
        "           'weather_humidity',\n",
        "           'weather_detail'],\n",
        "          axis=1,\n",
        "          inplace=True)"
      ],
      "metadata": {
        "id": "mfWthoEBo91A"
      },
      "execution_count": null,
      "outputs": []
    },
    {
      "cell_type": "markdown",
      "source": [
        "### Creating pipeline"
      ],
      "metadata": {
        "id": "c4bDk7pTmkrq"
      }
    },
    {
      "cell_type": "code",
      "source": [
        "pipeline_steps = [\n",
        "    ('clean_percent_data', clean_percent_data()),\n",
        "    ('remove_special_char_columns', remove_special_char_columns()),\n",
        "    ('negative_turnover_number', negative_turnover_number()),\n",
        "    ('transform_home_away_columns_percent', transform_home_away_columns_percent()),\n",
        "    ('drop_columns', drop_columns()),\n",
        "    ('fix_datatype', fix_datatype()),\n",
        "    ('home_winner', home_winner()),\n",
        "    ('drop_unused_columns', drop_unused_columns()),\n",
        "]"
      ],
      "metadata": {
        "id": "LPBIx0JRqB56"
      },
      "execution_count": null,
      "outputs": []
    },
    {
      "cell_type": "code",
      "source": [
        "pipe = Pipeline(\n",
        "    pipeline_steps\n",
        ")"
      ],
      "metadata": {
        "id": "nkmjx7eLJ89P"
      },
      "execution_count": null,
      "outputs": []
    },
    {
      "cell_type": "code",
      "source": [
        "pipe.set_params(df=False,\n",
        "                classifier__C=0.1)"
      ],
      "metadata": {
        "id": "_U3b67kMqgb-"
      },
      "execution_count": null,
      "outputs": []
    },
    {
      "cell_type": "markdown",
      "source": [
        "### Applying pipeline"
      ],
      "metadata": {
        "id": "esWMOI7_mmLv"
      }
    },
    {
      "cell_type": "code",
      "source": [],
      "metadata": {
        "id": "CvKWIWz5moNX"
      },
      "execution_count": null,
      "outputs": []
    },
    {
      "cell_type": "markdown",
      "source": [
        "## Variables defining"
      ],
      "metadata": {
        "id": "5J_yLvqgoaQo"
      }
    },
    {
      "cell_type": "markdown",
      "source": [
        "**IMPORTANT**: X, y and train test split before making preprocessing to avoid data leakage"
      ],
      "metadata": {
        "id": "jNT9s1DgwqX0"
      }
    },
    {
      "cell_type": "code",
      "source": [
        "target = 'home_winner'\n",
        "X_train = featured_df.drop(target, axis=1)\n",
        "y_train = featured_df[[target]]\n",
        "X_test = test_df.drop(target, axis=1)\n",
        "y_test = test_df[[target]]"
      ],
      "metadata": {
        "id": "rcdTH3Kioe9M"
      },
      "execution_count": null,
      "outputs": []
    },
    {
      "cell_type": "code",
      "source": [
        "# X_train, X_test, y_train, y_test = train_test_split(X, y, test_size=0.2, random_state=42)"
      ],
      "metadata": {
        "id": "9vQXV4Dsos-Y"
      },
      "execution_count": null,
      "outputs": []
    },
    {
      "cell_type": "markdown",
      "source": [
        "# 0.3.1 ML Model"
      ],
      "metadata": {
        "id": "8AD8z3twwf58"
      }
    },
    {
      "cell_type": "markdown",
      "source": [
        "## Building model"
      ],
      "metadata": {
        "id": "ji1_Rw3yruF_"
      }
    },
    {
      "cell_type": "code",
      "source": [
        "#Define the objective function for Optuna\n",
        "def objective(trial):\n",
        "    params = {\n",
        "        'n_estimators': trial.suggest_int('n_estimators', 200, 800),\n",
        "        'max_depth': trial.suggest_int('max_depth', 2, 25),\n",
        "        'min_child_weight': trial.suggest_int('min_child_weight', 2, 20),\n",
        "        'learning_rate': trial.suggest_float('learning_rate', 0.01, 0.3),\n",
        "        'subsample': trial.suggest_float('subsample', 0.2, 0.8),\n",
        "        'colsample_bytree': trial.suggest_float('colsample_bytree', 0.1, 1.0),\n",
        "        'gamma': trial.suggest_float('gamma', 1e-8, 2, log=True),\n",
        "        'reg_lambda': trial.suggest_float('reg_lambda', 1e-3, 10.0),\n",
        "        'alpha': trial.suggest_float('alpha', 1, 15.0, log=True),\n",
        "        'scale_pos_weight': trial.suggest_float('scale_pos_weight', 0.1, 5.0)\n",
        "    }\n",
        "\n",
        "    model = XGBClassifier(\n",
        "        **params,\n",
        "        # use_label_encoder=False,\n",
        "        eval_metric='mlogloss',\n",
        "        # enable_categorical=True,\n",
        "        tree_method='hist',\n",
        "        device= 'cuda',\n",
        "        # objective='multi:softmax',\n",
        "        objective='binary:logistic',\n",
        "        # num_class=2\n",
        "    )\n",
        "    model.fit(X_train, y_train)\n",
        "    y_pred = model.predict(X_test)\n",
        "    # mcc = matthews_corrcoef(y_test, y_pred)\n",
        "    # acc = accuracy_score(y_test, y_pred)\n",
        "    skf = StratifiedKFold(n_splits=5, shuffle=True)\n",
        "    acc = cross_val_score(model, X_train, y_train, cv=skf, scoring='accuracy').mean()\n",
        "    trial.set_user_attr(\"acc\", acc)\n",
        "    return acc\n",
        "\n",
        "# Callback to print the MCC score for each trial\n",
        "# def print_mcc_callback(study, trial):\n",
        "#     mcc = trial.user_attrs[\"mcc\"]\n",
        "#     print(f\"Trial {trial.number}: MCC = {mcc}\")\n",
        "\n",
        "# def print_accuracy_callback(study, trial):\n",
        "#     acc = trial.user_attrs[\"acc\"]\n",
        "#     print(f\"Trial {trial.number}: Accuracy score = {acc}\")\n",
        "\n",
        "# Optimize hyperparameters with Optuna\n",
        "study = optuna.create_study(direction='maximize')\n",
        "study.optimize(objective, n_trials=30)\n",
        "\n",
        "# Get the best parameters\n",
        "best_params = study.best_params\n",
        "print(f\"Best parameters: {best_params}\")"
      ],
      "metadata": {
        "id": "biQJdzmClA4u"
      },
      "execution_count": null,
      "outputs": []
    },
    {
      "cell_type": "code",
      "source": [
        "xgb = XGBClassifier(\n",
        "    **best_params,\n",
        "    eval_metric='mlogloss',\n",
        "    tree_method='hist',\n",
        "    device= 'cuda',\n",
        "    objective='binary:logistic'\n",
        ")\n",
        "xgb.fit(X_train, y_train)"
      ],
      "metadata": {
        "id": "EnYjWpgCvBqw"
      },
      "execution_count": null,
      "outputs": []
    },
    {
      "cell_type": "markdown",
      "source": [
        "## Predicting"
      ],
      "metadata": {
        "id": "0dD4Hlq2rvyD"
      }
    },
    {
      "cell_type": "code",
      "source": [
        "predictions = xgb.predict(X_test)"
      ],
      "metadata": {
        "id": "telzjAeCrYnG"
      },
      "execution_count": null,
      "outputs": []
    },
    {
      "cell_type": "markdown",
      "source": [
        "## Evaluating model"
      ],
      "metadata": {
        "id": "bkDub8MarxCX"
      }
    },
    {
      "cell_type": "code",
      "source": [
        "cf_matrix = confusion_matrix(y_test, predictions)\n",
        "\n",
        "group_names = ['True Neg','False Pos','False Neg','True Pos']\n",
        "group_counts = ['{0:0.0f}'.format(value) for value in\n",
        "                cf_matrix.flatten()]\n",
        "group_percentages = ['{0:.2%}'.format(value) for value in\n",
        "                     cf_matrix.flatten()/np.sum(cf_matrix)]\n",
        "labels = [f'{v1}\\n{v2}\\n{v3}' for v1, v2, v3 in\n",
        "          zip(group_names,group_counts,group_percentages)]\n",
        "labels = np.asarray(labels).reshape(2,2)\n",
        "sns.heatmap(cf_matrix, annot=labels, fmt='', cmap='Reds')"
      ],
      "metadata": {
        "id": "RELYjk9-wYPi"
      },
      "execution_count": null,
      "outputs": []
    },
    {
      "cell_type": "code",
      "source": [
        "print(classification_report(y_test, predictions))"
      ],
      "metadata": {
        "id": "aXHCWM6YsDCv"
      },
      "execution_count": null,
      "outputs": []
    },
    {
      "cell_type": "code",
      "source": [
        "# explainer = shap.Explainer(xgb, X_test)\n",
        "explainer = shap.Explainer(xgb, pd.DataFrame(X_train.astype('float64'), columns=X.columns))\n",
        "\n",
        "# shap_values = explainer(X_test)\n",
        "shap_values = explainer(pd.DataFrame(X_test, columns=X.columns))\n",
        "\n",
        "shap.plots.waterfall(shap_values[0])"
      ],
      "metadata": {
        "id": "2KwCUyPoxyAk"
      },
      "execution_count": null,
      "outputs": []
    },
    {
      "cell_type": "code",
      "source": [
        "shap.plots.beeswarm(shap_values)"
      ],
      "metadata": {
        "id": "UiJvy2s81Frd"
      },
      "execution_count": null,
      "outputs": []
    },
    {
      "cell_type": "markdown",
      "source": [
        "## Saving model"
      ],
      "metadata": {
        "id": "4TtIx9JUxu-E"
      }
    },
    {
      "cell_type": "code",
      "source": [
        "# save\n",
        "with open('model_nfl.pkl','wb') as f:\n",
        "    pickle.dump(xgb,f)"
      ],
      "metadata": {
        "id": "37zE66tOxxbR"
      },
      "execution_count": null,
      "outputs": []
    }
  ]
}