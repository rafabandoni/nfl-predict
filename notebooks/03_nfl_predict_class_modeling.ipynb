{
  "nbformat": 4,
  "nbformat_minor": 0,
  "metadata": {
    "colab": {
      "private_outputs": true,
      "provenance": [],
      "gpuType": "T4",
      "authorship_tag": "ABX9TyPOZv7zKClP2RkApeMgiA3j",
      "include_colab_link": true
    },
    "kernelspec": {
      "name": "python3",
      "display_name": "Python 3"
    },
    "language_info": {
      "name": "python"
    },
    "accelerator": "GPU"
  },
  "cells": [
    {
      "cell_type": "markdown",
      "metadata": {
        "id": "view-in-github",
        "colab_type": "text"
      },
      "source": [
        "<a href=\"https://colab.research.google.com/github/rafabandoni/nfl-predict/blob/main/notebooks/03_nfl_predict_class.ipynb\" target=\"_parent\"><img src=\"https://colab.research.google.com/assets/colab-badge.svg\" alt=\"Open In Colab\"/></a>"
      ]
    },
    {
      "cell_type": "code",
      "source": [
        "!pip install optuna"
      ],
      "metadata": {
        "id": "f0t7LN8Jl9b3"
      },
      "execution_count": null,
      "outputs": []
    },
    {
      "cell_type": "code",
      "execution_count": null,
      "metadata": {
        "id": "4D1p9LBYwY-O"
      },
      "outputs": [],
      "source": [
        "import pandas as pd\n",
        "import seaborn as sns\n",
        "import numpy as np\n",
        "\n",
        "from sklearn.model_selection import train_test_split, StratifiedKFold, cross_val_score\n",
        "# from sklearn.preprocessing import StandardScaler\n",
        "# from sklearn.decomposition import PCA\n",
        "from sklearn.metrics import accuracy_score, confusion_matrix, classification_report\n",
        "\n",
        "from xgboost import XGBClassifier\n",
        "\n",
        "import shap\n",
        "import optuna\n",
        "import pickle"
      ]
    },
    {
      "cell_type": "markdown",
      "source": [
        "# 0.3 Pre Processing"
      ],
      "metadata": {
        "id": "JhJwHHc8wbUt"
      }
    },
    {
      "cell_type": "code",
      "source": [
        "featured_df = pd.read_parquet('https://github.com/rafabandoni/nfl-predict/raw/refs/heads/main/data/output/featured_df.parquet')\n",
        "featured_df.head()"
      ],
      "metadata": {
        "id": "aDCp4uYbwfO2"
      },
      "execution_count": null,
      "outputs": []
    },
    {
      "cell_type": "markdown",
      "source": [
        "## Train Test Split"
      ],
      "metadata": {
        "id": "5J_yLvqgoaQo"
      }
    },
    {
      "cell_type": "markdown",
      "source": [
        "**IMPORTANT**: X, y and train test split before making preprocessing to avoid data leakage"
      ],
      "metadata": {
        "id": "jNT9s1DgwqX0"
      }
    },
    {
      "cell_type": "code",
      "source": [
        "target = 'home_winner'\n",
        "X = featured_df.drop(target, axis=1)\n",
        "y = featured_df[[target]]"
      ],
      "metadata": {
        "id": "rcdTH3Kioe9M"
      },
      "execution_count": null,
      "outputs": []
    },
    {
      "cell_type": "code",
      "source": [
        "X_train, X_test, y_train, y_test = train_test_split(X, y, test_size=0.2, random_state=42)"
      ],
      "metadata": {
        "id": "9vQXV4Dsos-Y"
      },
      "execution_count": null,
      "outputs": []
    },
    {
      "cell_type": "markdown",
      "source": [
        "## Scaling"
      ],
      "metadata": {
        "id": "6YJ4KlOvqdKH"
      }
    },
    {
      "cell_type": "code",
      "source": [
        "# scaler = StandardScaler()\n",
        "# X_train = scaler.fit_transform(X_train)"
      ],
      "metadata": {
        "id": "hy9RPC6xqeUM"
      },
      "execution_count": null,
      "outputs": []
    },
    {
      "cell_type": "markdown",
      "source": [
        "## Principal Component Analysis(PCA)\n",
        "\n",
        "PCA is an unsupervised learning algorithm, meaning it doesn’t require prior knowledge of target variables. It’s commonly used in exploratory data analysis and machine learning to simplify datasets without losing critical information.\n",
        "\n",
        "Know more: https://www.geeksforgeeks.org/principal-component-analysis-pca/"
      ],
      "metadata": {
        "id": "7E1s5UOawm6l"
      }
    },
    {
      "cell_type": "code",
      "source": [
        "# Without pca seems to work better\n",
        "\n",
        "# pca = PCA(n_components=0.7)\n",
        "# X_train = pca.fit_transform(X_train)\n",
        "# X_train"
      ],
      "metadata": {
        "id": "5sL_nfTLwtvd"
      },
      "execution_count": null,
      "outputs": []
    },
    {
      "cell_type": "code",
      "source": [
        "# X_test = scaler.transform(X_test)\n",
        "# X_test = pca.transform(X_test)"
      ],
      "metadata": {
        "id": "iyls61MhsWDH"
      },
      "execution_count": null,
      "outputs": []
    },
    {
      "cell_type": "markdown",
      "source": [
        "# 0.3.1 ML Model"
      ],
      "metadata": {
        "id": "8AD8z3twwf58"
      }
    },
    {
      "cell_type": "markdown",
      "source": [
        "## Building model"
      ],
      "metadata": {
        "id": "ji1_Rw3yruF_"
      }
    },
    {
      "cell_type": "code",
      "source": [
        "#Define the objective function for Optuna\n",
        "def objective(trial):\n",
        "    params = {\n",
        "        'n_estimators': trial.suggest_int('n_estimators', 200, 800),\n",
        "        'max_depth': trial.suggest_int('max_depth', 2, 25),\n",
        "        'min_child_weight': trial.suggest_int('min_child_weight', 2, 20),\n",
        "        'learning_rate': trial.suggest_float('learning_rate', 0.01, 0.3),\n",
        "        'subsample': trial.suggest_float('subsample', 0.2, 0.8),\n",
        "        'colsample_bytree': trial.suggest_float('colsample_bytree', 0.1, 1.0),\n",
        "        'gamma': trial.suggest_float('gamma', 1e-8, 2, log=True),\n",
        "        'reg_lambda': trial.suggest_float('reg_lambda', 1e-3, 10.0),\n",
        "        'alpha': trial.suggest_float('alpha', 1, 15.0, log=True),\n",
        "        'scale_pos_weight': trial.suggest_float('scale_pos_weight', 0.1, 5.0)\n",
        "    }\n",
        "\n",
        "    model = XGBClassifier(\n",
        "        **params,\n",
        "        # use_label_encoder=False,\n",
        "        eval_metric='mlogloss',\n",
        "        # enable_categorical=True,\n",
        "        tree_method='hist',\n",
        "        device= 'cuda',\n",
        "        # objective='multi:softmax',\n",
        "        objective='binary:logistic',\n",
        "        # num_class=2\n",
        "    )\n",
        "    model.fit(X_train, y_train)\n",
        "    y_pred = model.predict(X_test)\n",
        "    # mcc = matthews_corrcoef(y_test, y_pred)\n",
        "    # acc = accuracy_score(y_test, y_pred)\n",
        "    skf = StratifiedKFold(n_splits=5, shuffle=True)\n",
        "    acc = cross_val_score(model, X_train, y_train, cv=skf, scoring='accuracy').mean()\n",
        "    trial.set_user_attr(\"acc\", acc)\n",
        "    return acc\n",
        "\n",
        "# Callback to print the MCC score for each trial\n",
        "# def print_mcc_callback(study, trial):\n",
        "#     mcc = trial.user_attrs[\"mcc\"]\n",
        "#     print(f\"Trial {trial.number}: MCC = {mcc}\")\n",
        "\n",
        "# def print_accuracy_callback(study, trial):\n",
        "#     acc = trial.user_attrs[\"acc\"]\n",
        "#     print(f\"Trial {trial.number}: Accuracy score = {acc}\")\n",
        "\n",
        "# Optimize hyperparameters with Optuna\n",
        "study = optuna.create_study(direction='maximize')\n",
        "study.optimize(objective, n_trials=30)\n",
        "\n",
        "# Get the best parameters\n",
        "best_params = study.best_params\n",
        "print(f\"Best parameters: {best_params}\")"
      ],
      "metadata": {
        "id": "biQJdzmClA4u"
      },
      "execution_count": null,
      "outputs": []
    },
    {
      "cell_type": "code",
      "source": [
        "xgb = XGBClassifier(\n",
        "    **best_params,\n",
        "    eval_metric='mlogloss',\n",
        "    tree_method='hist',\n",
        "    device= 'cuda',\n",
        "    objective='binary:logistic'\n",
        ")\n",
        "xgb.fit(X_train, y_train)"
      ],
      "metadata": {
        "id": "EnYjWpgCvBqw"
      },
      "execution_count": null,
      "outputs": []
    },
    {
      "cell_type": "markdown",
      "source": [
        "## Predicting"
      ],
      "metadata": {
        "id": "0dD4Hlq2rvyD"
      }
    },
    {
      "cell_type": "code",
      "source": [
        "predictions = xgb.predict(X_test)"
      ],
      "metadata": {
        "id": "telzjAeCrYnG"
      },
      "execution_count": null,
      "outputs": []
    },
    {
      "cell_type": "markdown",
      "source": [
        "## Evaluating model"
      ],
      "metadata": {
        "id": "bkDub8MarxCX"
      }
    },
    {
      "cell_type": "code",
      "source": [
        "cf_matrix = confusion_matrix(y_test, predictions)\n",
        "\n",
        "group_names = ['True Neg','False Pos','False Neg','True Pos']\n",
        "group_counts = ['{0:0.0f}'.format(value) for value in\n",
        "                cf_matrix.flatten()]\n",
        "group_percentages = ['{0:.2%}'.format(value) for value in\n",
        "                     cf_matrix.flatten()/np.sum(cf_matrix)]\n",
        "labels = [f'{v1}\\n{v2}\\n{v3}' for v1, v2, v3 in\n",
        "          zip(group_names,group_counts,group_percentages)]\n",
        "labels = np.asarray(labels).reshape(2,2)\n",
        "sns.heatmap(cf_matrix, annot=labels, fmt='', cmap='Reds')"
      ],
      "metadata": {
        "id": "RELYjk9-wYPi"
      },
      "execution_count": null,
      "outputs": []
    },
    {
      "cell_type": "code",
      "source": [
        "print(classification_report(y_test, predictions))"
      ],
      "metadata": {
        "id": "aXHCWM6YsDCv"
      },
      "execution_count": null,
      "outputs": []
    },
    {
      "cell_type": "code",
      "source": [
        "# explainer = shap.Explainer(xgb, X_test)\n",
        "explainer = shap.Explainer(xgb, pd.DataFrame(X_train.astype('float64'), columns=X.columns))\n",
        "\n",
        "# shap_values = explainer(X_test)\n",
        "shap_values = explainer(pd.DataFrame(X_test, columns=X.columns))\n",
        "\n",
        "shap.plots.waterfall(shap_values[0])"
      ],
      "metadata": {
        "id": "2KwCUyPoxyAk"
      },
      "execution_count": null,
      "outputs": []
    },
    {
      "cell_type": "code",
      "source": [
        "shap.plots.beeswarm(shap_values)"
      ],
      "metadata": {
        "id": "UiJvy2s81Frd"
      },
      "execution_count": null,
      "outputs": []
    },
    {
      "cell_type": "markdown",
      "source": [
        "## Saving model"
      ],
      "metadata": {
        "id": "4TtIx9JUxu-E"
      }
    },
    {
      "cell_type": "code",
      "source": [
        "# save\n",
        "with open('model_nfl.pkl','wb') as f:\n",
        "    pickle.dump(xgb,f)"
      ],
      "metadata": {
        "id": "37zE66tOxxbR"
      },
      "execution_count": null,
      "outputs": []
    }
  ]
}
