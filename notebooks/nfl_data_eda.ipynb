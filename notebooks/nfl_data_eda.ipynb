{
  "cells": [
    {
      "cell_type": "markdown",
      "metadata": {
        "id": "view-in-github",
        "colab_type": "text"
      },
      "source": [
        "<a href=\"https://colab.research.google.com/github/rafabandoni/nfl-predict/blob/main/notebooks/01_nfl_predict_class_eda.ipynb\" target=\"_parent\"><img src=\"https://colab.research.google.com/assets/colab-badge.svg\" alt=\"Open In Colab\"/></a>"
      ]
    },
    {
      "cell_type": "code",
      "source": [
        "import pandas as pd\n",
        "import numpy as np\n",
        "import matplotlib.pyplot as plt\n",
        "import seaborn as sns\n",
        "from IPython.display import Image"
      ],
      "metadata": {
        "id": "8LGNt4m13Bmf"
      },
      "execution_count": null,
      "outputs": []
    },
    {
      "cell_type": "code",
      "source": [
        "pd.set_option('display.max_columns', None)"
      ],
      "metadata": {
        "id": "FZweLKeGcfCY"
      },
      "execution_count": null,
      "outputs": []
    },
    {
      "cell_type": "markdown",
      "metadata": {
        "id": "6wGrnELP2dJV"
      },
      "source": [
        "# 01. EDA (Exploratory data analysis)\n",
        "As for creating a **classifying algorithm** - probably with a **tree method**, some of the main goals of our EDA are:\n",
        "  - Find and understand outliers\n",
        "  - Understand scale of features and if scaling is needed\n",
        "  - Simplify our dataframe by removing complex features\n",
        "\n",
        "For that we will use the following thecniques:\n",
        "- Univariate analysis\n",
        "  - Describe data\n",
        "  - Barplot\n",
        "  - Time series\n",
        "  - Distribution\n",
        "\n",
        "- Bivariate analysis\n",
        "  - Dispersion\n",
        "\n",
        "- Multivariate analysis\n",
        "  - Boxplot\n",
        "  - Dispersion\n",
        "  - Correlation matrix\n",
        "\n",
        "\"EDA is never ready, only abandoned.\"\n"
      ]
    },
    {
      "cell_type": "markdown",
      "source": [
        "## Load data"
      ],
      "metadata": {
        "id": "mWRnOZTIa1x3"
      }
    },
    {
      "cell_type": "code",
      "source": [
        "PATH = 'https://raw.githubusercontent.com/rafabandoni/nfl-predict/refs/heads/main/data/output/'"
      ],
      "metadata": {
        "id": "bB3LDhU13DSC"
      },
      "execution_count": null,
      "outputs": []
    },
    {
      "cell_type": "code",
      "source": [
        "games_score_df = pd.read_parquet(PATH + 'train_data.parquet')\n",
        "games_score_df.head()"
      ],
      "metadata": {
        "id": "PtgzPYHx3EbP"
      },
      "execution_count": null,
      "outputs": []
    },
    {
      "cell_type": "markdown",
      "source": [
        "### Enhancing dataframe"
      ],
      "metadata": {
        "id": "Va6zlld_dUoF"
      }
    },
    {
      "cell_type": "code",
      "source": [
        "# Total points per game\n",
        "games_score_df['total_score'] = games_score_df['score_home'] + games_score_df['score_away']"
      ],
      "metadata": {
        "id": "DHd1rKCKdWvv"
      },
      "execution_count": null,
      "outputs": []
    },
    {
      "cell_type": "code",
      "source": [
        "# games_score_df.drop(['year_home_', 'year_away_'], axis=1, inplace=True) # dropping unnecessary columns"
      ],
      "metadata": {
        "id": "12MRHkpzr8ET"
      },
      "execution_count": null,
      "outputs": []
    },
    {
      "cell_type": "code",
      "source": [
        "numeric_cols = games_score_df.select_dtypes(include='number').columns"
      ],
      "metadata": {
        "id": "G7W-XNTjvIJ4"
      },
      "execution_count": null,
      "outputs": []
    },
    {
      "cell_type": "markdown",
      "source": [
        "## Univariate analysis"
      ],
      "metadata": {
        "id": "DMkgv3uDqSKN"
      }
    },
    {
      "cell_type": "markdown",
      "source": [
        "### Describing data"
      ],
      "metadata": {
        "id": "b32kc1dWrg4D"
      }
    },
    {
      "cell_type": "code",
      "source": [
        "games_score_df.describe()"
      ],
      "metadata": {
        "id": "gQoc_Vkvra6S"
      },
      "execution_count": null,
      "outputs": []
    },
    {
      "cell_type": "markdown",
      "source": [
        "### Barplot"
      ],
      "metadata": {
        "id": "PCANQNo0jPF9"
      }
    },
    {
      "cell_type": "code",
      "source": [
        "df = games_score_df[['schedule_season',\n",
        "                     'home_winner']]\n",
        "df['home_wins'] = df['home_winner'].map({True : 1, False : 0})\n",
        "df['away_wins'] = df['home_winner'].map({True : 0, False : 1})\n",
        "df = df.groupby('schedule_season', as_index=False).sum(numeric_only=True)\n",
        "dfm = pd.melt(df[['schedule_season', 'home_wins', 'away_wins']], id_vars=\"schedule_season\", var_name='home_or_away_wins', value_name='wins')\n",
        "\n",
        "plt.figure(figsize=(10,7))\n",
        "sns.barplot(\n",
        "    data=dfm,\n",
        "    x='schedule_season',\n",
        "    y='wins',\n",
        "    hue='home_or_away_wins'\n",
        ")\n",
        "plt.title('Home or away winners per season')\n",
        "plt.ylabel('Wins')\n",
        "plt.xlabel('Season')\n",
        "# plt.show()\n",
        "plt.savefig(\"home_away_winner_per_season.png\")\n",
        "plt.clf()\n",
        "Image(filename='home_away_winner_per_season.png')"
      ],
      "metadata": {
        "id": "m414fEO3e4_M"
      },
      "execution_count": null,
      "outputs": []
    },
    {
      "cell_type": "markdown",
      "source": [
        "### Time series"
      ],
      "metadata": {
        "id": "YpBaBka8az7P"
      }
    },
    {
      "cell_type": "code",
      "source": [
        "num_cols = 3\n",
        "num_rows = 2\n",
        "\n",
        "fig, axes = plt.subplots(num_rows, num_cols, figsize=(15, 5 * num_rows))\n",
        "axes = axes.flatten()  # Flatten the axes array for easy indexing\n",
        "\n",
        "df = games_score_df[['schedule_date',\n",
        "                     'home_winner',\n",
        "                     'total_score']].groupby(['schedule_date',\n",
        "                                              'home_winner'], as_index=False).mean()\n",
        "\n",
        "sns.lineplot(\n",
        "    data=df,\n",
        "    x='schedule_date',\n",
        "    y='total_score',\n",
        "    hue='home_winner',\n",
        "    ax=axes[0]\n",
        ")\n",
        "axes[0].set_title('Mean of total score per date')\n",
        "\n",
        "sns.lineplot(\n",
        "    data=games_score_df,\n",
        "    x='schedule_date',\n",
        "    y='total_score',\n",
        "    hue='home_winner',\n",
        "    ax=axes[1]\n",
        ")\n",
        "axes[1].set_title('Total score per date')\n",
        "\n",
        "sns.lineplot(\n",
        "    data=games_score_df,\n",
        "    x='schedule_date',\n",
        "    y='score_home',\n",
        "    hue='home_winner',\n",
        "    ax=axes[2]\n",
        ")\n",
        "axes[2].set_title('Home score per date')\n",
        "\n",
        "sns.lineplot(\n",
        "    data=games_score_df,\n",
        "    x='schedule_date',\n",
        "    y='score_home',\n",
        "    hue='home_winner',\n",
        "    ax=axes[3]\n",
        ")\n",
        "axes[3].set_title('Mean of home score per date')\n",
        "\n",
        "sns.lineplot(\n",
        "    data=games_score_df,\n",
        "    x='schedule_date',\n",
        "    y='score_away',\n",
        "    hue='home_winner',\n",
        "    ax=axes[4]\n",
        ")\n",
        "axes[4].set_title('Mean of away score per date')\n",
        "\n",
        "plt.tight_layout(pad=3.0)\n",
        "# plt.show()\n",
        "plt.savefig(\"time_series.png\")\n",
        "plt.clf()\n",
        "Image(filename='time_series.png')"
      ],
      "metadata": {
        "id": "LXjCURmDs_JV"
      },
      "execution_count": null,
      "outputs": []
    },
    {
      "cell_type": "markdown",
      "source": [
        "### Distribution"
      ],
      "metadata": {
        "id": "-P2v9bCzriZW"
      }
    },
    {
      "cell_type": "code",
      "source": [
        "sns.countplot(x='home_winner', data=games_score_df)\n",
        "plt.title('Distribuição de Home Winner')\n",
        "plt.show()"
      ],
      "metadata": {
        "id": "7TDwGin3raZw"
      },
      "execution_count": null,
      "outputs": []
    },
    {
      "cell_type": "code",
      "source": [
        "df = games_score_df[numeric_cols]\n",
        "\n",
        "num_cols = 3\n",
        "num_rows = (len(df.columns) - 1) // num_cols + 1\n",
        "\n",
        "fig, axes = plt.subplots(num_rows, num_cols, figsize=(15, 5 * num_rows))\n",
        "axes = axes.flatten()  # Flatten the axes array for easy indexing\n",
        "\n",
        "for i in range(0, len(df.columns) - 1):\n",
        "    col = df.columns[i]\n",
        "\n",
        "    sns.histplot(\n",
        "        df[col],\n",
        "        kde=True,\n",
        "        ax=axes[i]\n",
        "    )\n",
        "    axes[i].set_title(f'Histogram for {col}', fontsize=12)\n",
        "\n",
        "for j in range(i + 1, len(axes)):\n",
        "    axes[j].set_visible(False)\n",
        "\n",
        "plt.tight_layout(pad=3.0)\n",
        "plt.savefig(\"histplot.png\")\n",
        "plt.clf()\n",
        "Image(filename='histplot.png')"
      ],
      "metadata": {
        "id": "8haHoL_7rqKo"
      },
      "execution_count": null,
      "outputs": []
    },
    {
      "cell_type": "code",
      "source": [
        "df = games_score_df[numeric_cols]\n",
        "\n",
        "num_cols = 3\n",
        "num_rows = (len(df.columns) - 1) // num_cols + 1\n",
        "\n",
        "fig, axes = plt.subplots(num_rows, num_cols, figsize=(15, 5 * num_rows))\n",
        "axes = axes.flatten()  # Flatten the axes array for easy indexing\n",
        "\n",
        "for i in range(0, len(df.columns) - 1):\n",
        "    col = df.columns[i]\n",
        "\n",
        "    sns.violinplot(\n",
        "        df[col],\n",
        "        # kde=True,\n",
        "        ax=axes[i]\n",
        "    )\n",
        "    axes[i].set_title(f'Histogram for {col}', fontsize=12)\n",
        "\n",
        "for j in range(i + 1, len(axes)):\n",
        "    axes[j].set_visible(False)\n",
        "\n",
        "plt.tight_layout(pad=3.0)\n",
        "plt.savefig(\"violinplot.png\")\n",
        "plt.clf()\n",
        "Image(filename='violinplot.png')"
      ],
      "metadata": {
        "id": "cepl8AIYsrvT"
      },
      "execution_count": null,
      "outputs": []
    },
    {
      "cell_type": "markdown",
      "source": [
        "## Bivariate Analysis"
      ],
      "metadata": {
        "id": "EPXcmBdLq8iY"
      }
    },
    {
      "cell_type": "markdown",
      "source": [
        "### Dispersion"
      ],
      "metadata": {
        "id": "ZkdSTJGoQP72"
      }
    },
    {
      "cell_type": "code",
      "source": [
        "num_cols = 3\n",
        "num_rows = (len(games_score_df.columns) - 1) // num_cols + 1\n",
        "\n",
        "fig, axes = plt.subplots(num_rows, num_cols, figsize=(15, 5 * num_rows))\n",
        "axes = axes.flatten()  # Flatten the axes array for easy indexing\n",
        "\n",
        "for i in range(0, len(games_score_df.columns) - 1):\n",
        "    col1 = games_score_df.columns[i]\n",
        "    col2 = 'home_winner'\n",
        "\n",
        "    if col1 != 'home_winner':\n",
        "        sns.scatterplot(\n",
        "            data=games_score_df,\n",
        "            x=col2,\n",
        "            y=col1,\n",
        "            ax=axes[i]\n",
        "        )\n",
        "        axes[i].set_title(f'Relation between {col1} \\nand home_winner', fontsize=12)\n",
        "\n",
        "for j in range(i + 1, len(axes)):\n",
        "    axes[j].set_visible(False)\n",
        "\n",
        "plt.tight_layout(pad=3.0)\n",
        "plt.savefig(\"dispersion_home_winner.png\")\n",
        "plt.clf()\n",
        "Image(filename='dispersion_home_winner.png')"
      ],
      "metadata": {
        "id": "AuoIcsl4XIlb"
      },
      "execution_count": null,
      "outputs": []
    },
    {
      "cell_type": "markdown",
      "source": [
        "## Multivariate Analysis"
      ],
      "metadata": {
        "id": "ghxjI6nFqV5k"
      }
    },
    {
      "cell_type": "markdown",
      "source": [
        "### Boxplot"
      ],
      "metadata": {
        "id": "nWdAcTxnztU9"
      }
    },
    {
      "cell_type": "code",
      "source": [
        "num_cols = 3\n",
        "num_rows = (len(games_score_df.columns) - 1) // num_cols + 1\n",
        "\n",
        "fig, axes = plt.subplots(num_rows, num_cols, figsize=(15, 5 * num_rows))\n",
        "axes = axes.flatten()  # Flatten the axes array for easy indexing\n",
        "\n",
        "for i in range(0, len(games_score_df.columns) - 1):\n",
        "    col1 = games_score_df.columns[i]\n",
        "    col2 = games_score_df.columns[i + 1]\n",
        "\n",
        "    if col1 != 'home_winner' and col2 != 'home_winner':\n",
        "        sns.boxplot(\n",
        "            data=games_score_df,\n",
        "            x=col1,\n",
        "            y=col2,\n",
        "            hue='home_winner',\n",
        "            ax=axes[i]\n",
        "        )\n",
        "        axes[i].set_title(f'Dispersion for {col1} \\nand {col2} by home_win', fontsize=12)\n",
        "\n",
        "for j in range(i + 1, len(axes)):\n",
        "    axes[j].set_visible(False)\n",
        "\n",
        "plt.tight_layout(pad=3.0)\n",
        "plt.savefig(\"boxplot_multi.png\")\n",
        "plt.clf()\n",
        "Image(filename='boxplot_multi.png')"
      ],
      "metadata": {
        "id": "AdI1CQCJzu8s",
        "collapsed": true
      },
      "execution_count": null,
      "outputs": []
    },
    {
      "cell_type": "markdown",
      "source": [
        "### Dispersion"
      ],
      "metadata": {
        "id": "SebrYkbsxDlh"
      }
    },
    {
      "cell_type": "code",
      "source": [
        "num_cols = 3\n",
        "num_rows = (len(games_score_df.columns) - 1) // num_cols + 1\n",
        "\n",
        "fig, axes = plt.subplots(num_rows, num_cols, figsize=(15, 5 * num_rows))\n",
        "axes = axes.flatten()  # Flatten the axes array for easy indexing\n",
        "\n",
        "for i in range(0, len(games_score_df.columns) - 1):\n",
        "    col1 = games_score_df.columns[i]\n",
        "    col2 = games_score_df.columns[i + 1]\n",
        "\n",
        "    if col1 != 'home_winner' and col2 != 'home_winner':\n",
        "        sns.scatterplot(\n",
        "            data=games_score_df,\n",
        "            x=col1,\n",
        "            y=col2,\n",
        "            hue='home_winner',\n",
        "            ax=axes[i]\n",
        "        )\n",
        "        axes[i].set_title(f'Dispersion for {col1} \\nand {col2} by home_win', fontsize=12)\n",
        "\n",
        "for j in range(i + 1, len(axes)):\n",
        "    axes[j].set_visible(False)\n",
        "\n",
        "plt.tight_layout(pad=3.0)\n",
        "plt.savefig(\"dispersion_multi.png\")\n",
        "plt.clf()\n",
        "Image(filename='dispersion_multi.png')"
      ],
      "metadata": {
        "id": "0Z1pdginxGv1",
        "collapsed": true
      },
      "execution_count": null,
      "outputs": []
    },
    {
      "cell_type": "markdown",
      "source": [
        "### Correlation"
      ],
      "metadata": {
        "id": "qTI243IwcnEq"
      }
    },
    {
      "cell_type": "code",
      "source": [
        "def get_columns(theme, columns):\n",
        "  new_list = ['schedule_date', 'schedule_season', 'schedule_playoff', 'team_home',\n",
        "              'score_home', 'score_away', 'team_away', 'stadium_neutral',\n",
        "              'home_winner']\n",
        "  for column in columns:\n",
        "    if theme in column:\n",
        "      new_list.append(column)\n",
        "  return new_list\n",
        "\n",
        "columns = games_score_df.columns\n",
        "\n",
        "themes = ['defense', 'offense', 'special_teams']\n",
        "for theme in themes:\n",
        "  plt.figure(figsize=(30,25))\n",
        "  sns.heatmap(\n",
        "      data=games_score_df[get_columns(theme, columns)].corr(numeric_only=True),\n",
        "      vmin=-1,\n",
        "      vmax=1,\n",
        "      linewidths=0.1,\n",
        "      # annot=True,\n",
        "      # cmap=\"YlOrBr\"\n",
        "      cmap=\"Reds\"\n",
        "  )\n",
        "  plt.savefig(f\"correlation_{theme}.png\")\n",
        "  plt.clf()"
      ],
      "metadata": {
        "id": "H2J6qakbcoL_"
      },
      "execution_count": null,
      "outputs": []
    },
    {
      "cell_type": "code",
      "source": [
        "Image(filename=f'correlation_defense.png')"
      ],
      "metadata": {
        "id": "3ljBGVh0Jx18"
      },
      "execution_count": null,
      "outputs": []
    },
    {
      "cell_type": "code",
      "source": [
        "Image(filename=f'correlation_offense.png')"
      ],
      "metadata": {
        "id": "X2rXQkwwJyO_"
      },
      "execution_count": null,
      "outputs": []
    },
    {
      "cell_type": "code",
      "source": [
        "Image(filename=f'correlation_special_teams.png')"
      ],
      "metadata": {
        "id": "VCCQ4_eaJyi4"
      },
      "execution_count": null,
      "outputs": []
    },
    {
      "cell_type": "markdown",
      "source": [
        "## Conclusion\n",
        "WIP"
      ],
      "metadata": {
        "id": "NUSzeF3uqakG"
      }
    }
  ],
  "metadata": {
    "language_info": {
      "name": "python"
    },
    "colab": {
      "provenance": [],
      "include_colab_link": true
    },
    "kernelspec": {
      "name": "python3",
      "display_name": "Python 3"
    }
  },
  "nbformat": 4,
  "nbformat_minor": 0
}